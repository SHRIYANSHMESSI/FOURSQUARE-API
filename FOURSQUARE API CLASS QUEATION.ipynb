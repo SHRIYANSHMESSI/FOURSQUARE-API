{
 "cells": [
  {
   "cell_type": "code",
   "execution_count": null,
   "id": "6df005b8",
   "metadata": {},
   "outputs": [],
   "source": []
  },
  {
   "cell_type": "code",
   "execution_count": 86,
   "id": "53d90be8",
   "metadata": {},
   "outputs": [
    {
     "name": "stdout",
     "output_type": "stream",
     "text": [
      "{\"results\":[],\"context\":{\"geo_bounds\":{\"circle\":{\"center\":{\"latitude\":21.9974,\"longitude\":79.0011},\"radius\":22000}}}}\n"
     ]
    }
   ],
   "source": [
    "import requests\n",
    "\n",
    "url = \"https://api.foursquare.com/v3/places/search?query=hawamahal\"\n",
    "\n",
    "headers = {\n",
    "    \"accept\": \"application/json\",\n",
    "    \"Authorization\": \"fsq3rrRhlWopDj58gqvPJsTvTCHbOQ/Gs176Dzobhd+QL1I=\"\n",
    "}\n",
    "\n",
    "response = requests.get(url, headers=headers)\n",
    "\n",
    "print(response.text)"
   ]
  },
  {
   "cell_type": "code",
   "execution_count": 87,
   "id": "979ab7ad",
   "metadata": {},
   "outputs": [
    {
     "data": {
      "text/plain": [
       "200"
      ]
     },
     "execution_count": 87,
     "metadata": {},
     "output_type": "execute_result"
    }
   ],
   "source": [
    "resp.status_code"
   ]
  },
  {
   "cell_type": "code",
   "execution_count": 88,
   "id": "b4eedf73",
   "metadata": {},
   "outputs": [
    {
     "data": {
      "text/plain": [
       "b'{\"results\":[],\"context\":{\"geo_bounds\":{\"circle\":{\"center\":{\"latitude\":21.9974,\"longitude\":79.0011},\"radius\":22000}}}}'"
      ]
     },
     "execution_count": 88,
     "metadata": {},
     "output_type": "execute_result"
    }
   ],
   "source": [
    "resp.content"
   ]
  },
  {
   "cell_type": "code",
   "execution_count": 89,
   "id": "6f2b4d12",
   "metadata": {},
   "outputs": [
    {
     "data": {
      "text/plain": [
       "'{\"results\":[],\"context\":{\"geo_bounds\":{\"circle\":{\"center\":{\"latitude\":21.9974,\"longitude\":79.0011},\"radius\":22000}}}}'"
      ]
     },
     "execution_count": 89,
     "metadata": {},
     "output_type": "execute_result"
    }
   ],
   "source": [
    "resp.text"
   ]
  },
  {
   "cell_type": "code",
   "execution_count": 90,
   "id": "18a03de5",
   "metadata": {},
   "outputs": [],
   "source": [
    "request1=resp"
   ]
  },
  {
   "cell_type": "code",
   "execution_count": 91,
   "id": "48c8d779",
   "metadata": {},
   "outputs": [
    {
     "data": {
      "text/plain": [
       "<Response [200]>"
      ]
     },
     "execution_count": 91,
     "metadata": {},
     "output_type": "execute_result"
    }
   ],
   "source": [
    "request1"
   ]
  },
  {
   "cell_type": "code",
   "execution_count": 92,
   "id": "e178b2b8",
   "metadata": {},
   "outputs": [
    {
     "data": {
      "text/plain": [
       "{'results': [],\n",
       " 'context': {'geo_bounds': {'circle': {'center': {'latitude': 21.9974,\n",
       "     'longitude': 79.0011},\n",
       "    'radius': 22000}}}}"
      ]
     },
     "execution_count": 92,
     "metadata": {},
     "output_type": "execute_result"
    }
   ],
   "source": [
    "request1.json()"
   ]
  },
  {
   "cell_type": "code",
   "execution_count": 83,
   "id": "f1200a32",
   "metadata": {},
   "outputs": [
    {
     "data": {
      "text/plain": [
       "dict_keys(['results', 'context'])"
      ]
     },
     "execution_count": 83,
     "metadata": {},
     "output_type": "execute_result"
    }
   ],
   "source": [
    "make = request1.json()\n",
    "make.keys()"
   ]
  },
  {
   "cell_type": "code",
   "execution_count": 84,
   "id": "3813c9b2",
   "metadata": {},
   "outputs": [
    {
     "data": {
      "text/plain": [
       "[]"
      ]
     },
     "execution_count": 84,
     "metadata": {},
     "output_type": "execute_result"
    }
   ],
   "source": [
    "make['results']\n"
   ]
  },
  {
   "cell_type": "code",
   "execution_count": 47,
   "id": "ba7c2d4f",
   "metadata": {},
   "outputs": [
    {
     "ename": "IndexError",
     "evalue": "list index out of range",
     "output_type": "error",
     "traceback": [
      "\u001b[1;31m---------------------------------------------------------------------------\u001b[0m",
      "\u001b[1;31mIndexError\u001b[0m                                Traceback (most recent call last)",
      "Cell \u001b[1;32mIn[47], line 1\u001b[0m\n\u001b[1;32m----> 1\u001b[0m make[\u001b[38;5;124m'\u001b[39m\u001b[38;5;124mresults\u001b[39m\u001b[38;5;124m'\u001b[39m][\u001b[38;5;241m0\u001b[39m][\u001b[38;5;124m'\u001b[39m\u001b[38;5;124mcategories\u001b[39m\u001b[38;5;124m'\u001b[39m][\u001b[38;5;241m0\u001b[39m][\u001b[38;5;124m'\u001b[39m\u001b[38;5;124mname\u001b[39m\u001b[38;5;124m'\u001b[39m]\n",
      "\u001b[1;31mIndexError\u001b[0m: list index out of range"
     ]
    }
   ],
   "source": [
    "make['results'][0]['categories'][0]['name']"
   ]
  },
  {
   "cell_type": "code",
   "execution_count": 17,
   "id": "87964581",
   "metadata": {},
   "outputs": [
    {
     "ename": "IndexError",
     "evalue": "list index out of range",
     "output_type": "error",
     "traceback": [
      "\u001b[1;31m---------------------------------------------------------------------------\u001b[0m",
      "\u001b[1;31mIndexError\u001b[0m                                Traceback (most recent call last)",
      "Cell \u001b[1;32mIn[17], line 1\u001b[0m\n\u001b[1;32m----> 1\u001b[0m make[\u001b[38;5;124m'\u001b[39m\u001b[38;5;124mresults\u001b[39m\u001b[38;5;124m'\u001b[39m][\u001b[38;5;241m0\u001b[39m][\u001b[38;5;124m'\u001b[39m\u001b[38;5;124m'\u001b[39m]\n",
      "\u001b[1;31mIndexError\u001b[0m: list index out of range"
     ]
    }
   ],
   "source": [
    "make['results'][0]['']"
   ]
  },
  {
   "cell_type": "code",
   "execution_count": 18,
   "id": "da400636",
   "metadata": {},
   "outputs": [
    {
     "data": {
      "text/plain": [
       "{'results': [],\n",
       " 'context': {'geo_bounds': {'circle': {'center': {'latitude': 21.9974,\n",
       "     'longitude': 79.0011},\n",
       "    'radius': 22000}}}}"
      ]
     },
     "execution_count": 18,
     "metadata": {},
     "output_type": "execute_result"
    }
   ],
   "source": [
    "make"
   ]
  },
  {
   "cell_type": "code",
   "execution_count": 19,
   "id": "fbb4e8fc",
   "metadata": {},
   "outputs": [],
   "source": [
    "for i in make:\n",
    "    if i=='result':\n",
    "        print(make[i])"
   ]
  },
  {
   "cell_type": "code",
   "execution_count": 20,
   "id": "b58fd5c3",
   "metadata": {},
   "outputs": [
    {
     "name": "stdout",
     "output_type": "stream",
     "text": [
      "shriy\n"
     ]
    }
   ],
   "source": [
    "dict1={'name':'shriy','age':23}\n",
    "for i in dict1:\n",
    "    if i=='name':\n",
    "        print(dict1[i])"
   ]
  },
  {
   "cell_type": "code",
   "execution_count": 21,
   "id": "afec4206",
   "metadata": {},
   "outputs": [],
   "source": [
    "data = make\n",
    "\n",
    "places_data = []\n",
    "for i in data['results']:\n",
    "    place_data = {\n",
    "        'name': i['name'],\n",
    "        'formatted_address': i['location']['formatted_address']\n",
    "    }\n",
    "    places_data.append(place_data)\n",
    "\n",
    "for j in places_data:\n",
    "    print('Name:', j['name'])\n",
    "    print('Formatted Address:', j['formatted_address'])\n",
    "    print()\n"
   ]
  },
  {
   "cell_type": "code",
   "execution_count": 22,
   "id": "27609784",
   "metadata": {},
   "outputs": [],
   "source": [
    "data = request1.json()\n",
    "places_info = []\n",
    "\n",
    "for place_data in data['results']:\n",
    "    place_info = {\n",
    "        'name': place_data['name'],\n",
    "        'formatted_address': place_data['location'].get('formatted_address'),\n",
    "        'region': place_data['location']['region'],\n",
    "        'latitude': place_data['geocodes']['main']['latitude'],\n",
    "        'longitude': place_data['geocodes']['main']['longitude']\n",
    "    }\n",
    "    places_info.append(place_info)\n",
    "\n",
    "for place_info in places_info:\n",
    "    print(\"Name:\", place_info['name'])\n",
    "    print(\"Formatted Address:\", place_info['formatted_address'])\n",
    "    print(\"Region:\", place_info['region'])\n",
    "    print(\"Latitude:\", place_info['latitude'])\n",
    "    print(\"Longitude:\", place_info['longitude'])\n",
    "    print(\"\\n\")\n"
   ]
  },
  {
   "cell_type": "code",
   "execution_count": 85,
   "id": "e8730948",
   "metadata": {},
   "outputs": [],
   "source": [
    "data={'results': [{'fsq_id': '4f1d22f8e4b044fd373c32bb',\n",
    "   'categories': [{'id': 16007,\n",
    "     'name': 'Structure',\n",
    "     'short_name': 'Structure',\n",
    "     'plural_name': 'Structures',\n",
    "     'icon': {'prefix': 'https://ss3.4sqi.net/img/categories_v2/building/default_',\n",
    "      'suffix': '.png'}}],\n",
    "   'chains': [],\n",
    "   'closed_bucket': 'VeryLikelyOpen',\n",
    "   'distance': 11977,\n",
    "   'geocodes': {'main': {'latitude': 26.923936, 'longitude': 75.826744},\n",
    "    'roof': {'latitude': 26.923862, 'longitude': 75.826816}},\n",
    "   'link': '/v3/places/4f1d22f8e4b044fd373c32bb',\n",
    "   'location': {'address': 'Hawa Mahal Road',\n",
    "    'country': 'IN',\n",
    "    'cross_street': 'Badi Choupad',\n",
    "    'formatted_address': 'Hawa Mahal Road (Badi Choupad), Jaipur 302002, Rājasthān',\n",
    "    'locality': 'Jaipur',\n",
    "    'postcode': '302002',\n",
    "    'region': 'Rājasthān'},\n",
    "   'name': 'Hawa Mahal',\n",
    "   'related_places': {'children': [{'fsq_id': '5d00ac4a061b51002c3f8eec',\n",
    "      'categories': [{'id': 10004,\n",
    "        'name': 'Art Gallery',\n",
    "        'short_name': 'Art Gallery',\n",
    "        'plural_name': 'Art Galleries',\n",
    "        'icon': {'prefix': 'https://ss3.4sqi.net/img/categories_v2/arts_entertainment/artgallery_',\n",
    "         'suffix': '.png'}}],\n",
    "      'name': 'Sculpture Gallery'},\n",
    "     {'fsq_id': '5c3b08fdc0c08400254ce2da',\n",
    "      'categories': [{'id': 13034,\n",
    "        'name': 'Café',\n",
    "        'short_name': 'Café',\n",
    "        'plural_name': 'Cafés',\n",
    "        'icon': {'prefix': 'https://ss3.4sqi.net/img/categories_v2/food/cafe_',\n",
    "         'suffix': '.png'}}],\n",
    "      'name': 'Café Coffee Day'}]},\n",
    "   'timezone': 'Asia/Kolkata'},\n",
    "  {'fsq_id': '638cbe9e7e75110a1f08ea5d',\n",
    "   'categories': [{'id': 11019,\n",
    "     'name': 'Ballroom',\n",
    "     'short_name': 'Ballroom',\n",
    "     'plural_name': 'Ballrooms',\n",
    "     'icon': {'prefix': 'https://ss3.4sqi.net/img/categories_v2/building/default_',\n",
    "      'suffix': '.png'}}],\n",
    "   'chains': [],\n",
    "   'closed_bucket': 'VeryLikelyOpen',\n",
    "   'distance': 8817,\n",
    "   'geocodes': {'main': {'latitude': 26.919549, 'longitude': 75.791469}},\n",
    "   'link': '/v3/places/638cbe9e7e75110a1f08ea5d',\n",
    "   'location': {'address': 'Open Ball Room',\n",
    "    'country': 'IN',\n",
    "    'cross_street': 'Itc',\n",
    "    'formatted_address': 'Open Ball Room (Itc), Jaipur 302016, Rājasthān',\n",
    "    'locality': 'Jaipur',\n",
    "    'postcode': '302016',\n",
    "    'region': 'Rājasthān'},\n",
    "   'name': 'Hawa Mahal Banquet',\n",
    "   'related_places': {'parent': {'fsq_id': '4cbc54337a5d9eb0755b31e9',\n",
    "     'categories': [{'id': 19014,\n",
    "       'name': 'Hotel',\n",
    "       'short_name': 'Hotel',\n",
    "       'plural_name': 'Hotels',\n",
    "       'icon': {'prefix': 'https://ss3.4sqi.net/img/categories_v2/travel/hotel_',\n",
    "        'suffix': '.png'}}],\n",
    "     'name': 'Jharokha In ITC Rajputana Offers A Surreal Poolside Setting, Folk Music and Cocktails!'}},\n",
    "   'timezone': 'Asia/Kolkata'},\n",
    "  {'fsq_id': '4ee9fc2e0e01a148bd99b15b',\n",
    "   'categories': [{'id': 19014,\n",
    "     'name': 'Hotel',\n",
    "     'short_name': 'Hotel',\n",
    "     'plural_name': 'Hotels',\n",
    "     'icon': {'prefix': 'https://ss3.4sqi.net/img/categories_v2/travel/hotel_',\n",
    "      'suffix': '.png'}}],\n",
    "   'chains': [],\n",
    "   'closed_bucket': 'Unsure',\n",
    "   'distance': 8833,\n",
    "   'geocodes': {'main': {'latitude': 26.911841, 'longitude': 75.787116}},\n",
    "   'link': '/v3/places/4ee9fc2e0e01a148bd99b15b',\n",
    "   'location': {'address': 'Ajmer Road',\n",
    "    'country': 'IN',\n",
    "    'cross_street': 'Civil Lines',\n",
    "    'formatted_address': 'Ajmer Road (Civil Lines), Jaipur 302002, Rājasthān',\n",
    "    'locality': 'Jaipur',\n",
    "    'postcode': '302002',\n",
    "    'region': 'Rājasthān'},\n",
    "   'name': 'Hawa Mahal',\n",
    "   'related_places': {},\n",
    "   'timezone': 'Asia/Kolkata'},\n",
    "  {'fsq_id': '51221f58e4b03e7e255bd0e8',\n",
    "   'categories': [{'id': 17069,\n",
    "     'name': 'Grocery Store',\n",
    "     'short_name': 'Grocery Store',\n",
    "     'plural_name': 'Grocery Stores',\n",
    "     'icon': {'prefix': 'https://ss3.4sqi.net/img/categories_v2/shops/food_grocery_',\n",
    "      'suffix': '.png'}}],\n",
    "   'chains': [],\n",
    "   'closed_bucket': 'VeryLikelyOpen',\n",
    "   'distance': 11989,\n",
    "   'geocodes': {'main': {'latitude': 26.927709, 'longitude': 75.828456}},\n",
    "   'link': '/v3/places/51221f58e4b03e7e255bd0e8',\n",
    "   'location': {'country': 'IN',\n",
    "    'cross_street': '',\n",
    "    'formatted_address': 'Jaipur, Rājasthān',\n",
    "    'locality': 'Jaipur',\n",
    "    'region': 'Rājasthān'},\n",
    "   'name': 'Hawa Mahal Bazaar',\n",
    "   'related_places': {},\n",
    "   'timezone': 'Asia/Kolkata'},\n",
    "  {'fsq_id': '87b997b9b67f441b977ba205',\n",
    "   'categories': [{'id': 17000,\n",
    "     'name': 'Retail',\n",
    "     'short_name': 'Retail',\n",
    "     'plural_name': 'Retail',\n",
    "     'icon': {'prefix': 'https://ss3.4sqi.net/img/categories_v2/shops/default_',\n",
    "      'suffix': '.png'}}],\n",
    "   'chains': [],\n",
    "   'closed_bucket': 'LikelyOpen',\n",
    "   'distance': 10828,\n",
    "   'geocodes': {'main': {'latitude': 26.932109, 'longitude': 75.817383}},\n",
    "   'link': '/v3/places/87b997b9b67f441b977ba205',\n",
    "   'location': {'address': '3502 Behind Nahargarh Thana, Nahargarh Road, Chandpole, Chandpole Bazar',\n",
    "    'country': 'IN',\n",
    "    'formatted_address': '3502 Behind Nahargarh Thana, Nahargarh Road, Chandpole, Chandpole Bazar, Jaipur 302001, Rajasthan',\n",
    "    'locality': 'Jaipur',\n",
    "    'postcode': '302001',\n",
    "    'region': 'Rajasthan'},\n",
    "   'name': 'Hawamahal TV Digital Media',\n",
    "   'related_places': {}},\n",
    "  {'fsq_id': '537a638a11404d15bcf2f724',\n",
    "   'categories': [{'id': 17000,\n",
    "     'name': 'Retail',\n",
    "     'short_name': 'Retail',\n",
    "     'plural_name': 'Retail',\n",
    "     'icon': {'prefix': 'https://ss3.4sqi.net/img/categories_v2/shops/default_',\n",
    "      'suffix': '.png'}}],\n",
    "   'chains': [],\n",
    "   'closed_bucket': 'LikelyClosed',\n",
    "   'distance': 11951,\n",
    "   'geocodes': {'main': {'latitude': 26.923711, 'longitude': 75.826733},\n",
    "    'roof': {'latitude': 26.923711, 'longitude': 75.826733}},\n",
    "   'link': '/v3/places/537a638a11404d15bcf2f724',\n",
    "   'location': {'address': 'Manak Chowk, Badi Chopad, Hawa Mahal Road, Badi Chaupar',\n",
    "    'country': 'IN',\n",
    "    'formatted_address': 'Manak Chowk, Badi Chopad, Hawa Mahal Road, Badi Chaupar, Jaipur 302002, Rajasthan',\n",
    "    'locality': 'Jaipur',\n",
    "    'postcode': '302002',\n",
    "    'region': 'Rajasthan'},\n",
    "   'name': 'Hawa Mahal Handicrafts',\n",
    "   'related_places': {}},\n",
    "  {'fsq_id': '464ebc68a538428f2ea7c009',\n",
    "   'categories': [{'id': 17000,\n",
    "     'name': 'Retail',\n",
    "     'short_name': 'Retail',\n",
    "     'plural_name': 'Retail',\n",
    "     'icon': {'prefix': 'https://ss3.4sqi.net/img/categories_v2/shops/default_',\n",
    "      'suffix': '.png'}}],\n",
    "   'chains': [],\n",
    "   'closed_bucket': 'Unsure',\n",
    "   'distance': 8884,\n",
    "   'geocodes': {'main': {'latitude': 26.943701, 'longitude': 75.799644}},\n",
    "   'link': '/v3/places/464ebc68a538428f2ea7c009',\n",
    "   'location': {'address': '105 Opposite Pital Factory, Shastri',\n",
    "    'country': 'IN',\n",
    "    'formatted_address': '105 Opposite Pital Factory, Shastri, Jaipur 302016, Rajasthan',\n",
    "    'locality': 'Jaipur',\n",
    "    'postcode': '302016',\n",
    "    'region': 'Rajasthan'},\n",
    "   'name': 'Hawa Mahal Electronics',\n",
    "   'related_places': {}},\n",
    "  {'fsq_id': 'ce718743a567433918ebdb43',\n",
    "   'categories': [{'id': 19014,\n",
    "     'name': 'Hotel',\n",
    "     'short_name': 'Hotel',\n",
    "     'plural_name': 'Hotels',\n",
    "     'icon': {'prefix': 'https://ss3.4sqi.net/img/categories_v2/travel/hotel_',\n",
    "      'suffix': '.png'}}],\n",
    "   'chains': [],\n",
    "   'closed_bucket': 'LikelyOpen',\n",
    "   'distance': 9987,\n",
    "   'geocodes': {'drop_off': {'latitude': 26.922502, 'longitude': 75.8052},\n",
    "    'main': {'latitude': 26.922277, 'longitude': 75.805448}},\n",
    "   'link': '/v3/places/ce718743a567433918ebdb43',\n",
    "   'location': {'address': 'Andilina House Road',\n",
    "    'country': 'IN',\n",
    "    'formatted_address': 'Andilina House Road, Jaipur 302001, Rajasthan',\n",
    "    'locality': 'Jaipur',\n",
    "    'postcode': '302001',\n",
    "    'region': 'Rajasthan'},\n",
    "   'name': 'Hawa Mahal Guest House',\n",
    "   'related_places': {}},\n",
    "  {'fsq_id': '75c0537ce08a46627e025c3c',\n",
    "   'categories': [{'id': 19007,\n",
    "     'name': 'Fuel Station',\n",
    "     'short_name': 'Fuel Station',\n",
    "     'plural_name': 'Fuel Stations',\n",
    "     'icon': {'prefix': 'https://ss3.4sqi.net/img/categories_v2/shops/gas_',\n",
    "      'suffix': '.png'}}],\n",
    "   'chains': [],\n",
    "   'closed_bucket': 'Unsure',\n",
    "   'distance': 10564,\n",
    "   'geocodes': {'drop_off': {'latitude': 26.924312, 'longitude': 75.812389},\n",
    "    'main': {'latitude': 26.924322, 'longitude': 75.81235}},\n",
    "   'link': '/v3/places/75c0537ce08a46627e025c3c',\n",
    "   'location': {'address': 'P/9, Trivedi Tower, Unariyon Ka Rasta',\n",
    "    'address_extended': 'Near State Bank Of Chandpole Bazar, Chandpole, Purani',\n",
    "    'country': 'IN',\n",
    "    'formatted_address': 'P/9, Trivedi Tower, Unariyon Ka Rasta, Jaipur 302001, Rajasthan',\n",
    "    'locality': 'Jaipur',\n",
    "    'postcode': '302001',\n",
    "    'region': 'Rajasthan'},\n",
    "   'name': 'Hawamahal Indane',\n",
    "   'related_places': {}},\n",
    "  {'fsq_id': 'cc11ccbed97a4f9986f2f843',\n",
    "   'categories': [{'id': 12000,\n",
    "     'name': 'Community and Government',\n",
    "     'short_name': 'Community and Government',\n",
    "     'plural_name': 'Communities and Government',\n",
    "     'icon': {'prefix': 'https://ss3.4sqi.net/img/categories_v2/building/default_',\n",
    "      'suffix': '.png'}}],\n",
    "   'chains': [],\n",
    "   'closed_bucket': 'LikelyOpen',\n",
    "   'distance': 11730,\n",
    "   'geocodes': {'main': {'latitude': 26.938021, 'longitude': 75.827801}},\n",
    "   'link': '/v3/places/cc11ccbed97a4f9986f2f843',\n",
    "   'location': {'address': 'Jadoun Bhawan, 64, Bramhpuri Road',\n",
    "    'country': 'IN',\n",
    "    'formatted_address': 'Jadoun Bhawan, 64, Bramhpuri Road, Jaipur 302002, Rajasthan',\n",
    "    'locality': 'Jaipur',\n",
    "    'postcode': '302002',\n",
    "    'region': 'Rajasthan'},\n",
    "   'name': 'Hawamahal Jan Kalyan Vikas Samiti Kendra',\n",
    "   'related_places': {}}],\n",
    " 'context': {'geo_bounds': {'circle': {'center': {'latitude': 26.9525,\n",
    "     'longitude': 75.7105},\n",
    "    'radius': 22000}}}}"
   ]
  },
  {
   "cell_type": "code",
   "execution_count": 93,
   "id": "89ee0587",
   "metadata": {},
   "outputs": [],
   "source": [
    "try:\n",
    "    lats = []\n",
    "    logs = []\n",
    "    adds = []\n",
    "    regs = []\n",
    "    for_add = []\n",
    "    names = []\n",
    "    for temp in data['results']:\n",
    "        lat = temp['geocodes']['main']['latitude']\n",
    "        log = temp['geocodes']['main']['longitude']\n",
    "        add = temp['location'].get('address')\n",
    "        reg = temp['location'].get('region')\n",
    "        formatted = temp['location'].get('formatted_address')\n",
    "        name = temp['name']\n",
    "        lats.append(lat)\n",
    "        logs.append(log)\n",
    "        adds.append(add)\n",
    "        regs.append(reg)\n",
    "        for_add.append(formatted)\n",
    "        names.append(name)\n",
    "except Exception as err:\n",
    "    print(\"\\n ERROR --> \", err)\n",
    "    print(temp)"
   ]
  },
  {
   "cell_type": "code",
   "execution_count": 94,
   "id": "3efa99be",
   "metadata": {},
   "outputs": [
    {
     "data": {
      "text/plain": [
       "[26.923936,\n",
       " 26.919549,\n",
       " 26.911841,\n",
       " 26.927709,\n",
       " 26.932109,\n",
       " 26.923711,\n",
       " 26.943701,\n",
       " 26.922277,\n",
       " 26.924322,\n",
       " 26.938021]"
      ]
     },
     "execution_count": 94,
     "metadata": {},
     "output_type": "execute_result"
    }
   ],
   "source": [
    "lats"
   ]
  },
  {
   "cell_type": "code",
   "execution_count": 95,
   "id": "0a22b45b",
   "metadata": {},
   "outputs": [
    {
     "data": {
      "text/plain": [
       "[75.826744,\n",
       " 75.791469,\n",
       " 75.787116,\n",
       " 75.828456,\n",
       " 75.817383,\n",
       " 75.826733,\n",
       " 75.799644,\n",
       " 75.805448,\n",
       " 75.81235,\n",
       " 75.827801]"
      ]
     },
     "execution_count": 95,
     "metadata": {},
     "output_type": "execute_result"
    }
   ],
   "source": [
    "logs"
   ]
  },
  {
   "cell_type": "code",
   "execution_count": 96,
   "id": "5d950479",
   "metadata": {},
   "outputs": [
    {
     "data": {
      "text/plain": [
       "['Hawa Mahal Road',\n",
       " 'Open Ball Room',\n",
       " 'Ajmer Road',\n",
       " None,\n",
       " '3502 Behind Nahargarh Thana, Nahargarh Road, Chandpole, Chandpole Bazar',\n",
       " 'Manak Chowk, Badi Chopad, Hawa Mahal Road, Badi Chaupar',\n",
       " '105 Opposite Pital Factory, Shastri',\n",
       " 'Andilina House Road',\n",
       " 'P/9, Trivedi Tower, Unariyon Ka Rasta',\n",
       " 'Jadoun Bhawan, 64, Bramhpuri Road']"
      ]
     },
     "execution_count": 96,
     "metadata": {},
     "output_type": "execute_result"
    }
   ],
   "source": [
    "adds"
   ]
  },
  {
   "cell_type": "code",
   "execution_count": 97,
   "id": "5fa1fbed",
   "metadata": {},
   "outputs": [
    {
     "data": {
      "text/plain": [
       "['Rājasthān',\n",
       " 'Rājasthān',\n",
       " 'Rājasthān',\n",
       " 'Rājasthān',\n",
       " 'Rajasthan',\n",
       " 'Rajasthan',\n",
       " 'Rajasthan',\n",
       " 'Rajasthan',\n",
       " 'Rajasthan',\n",
       " 'Rajasthan']"
      ]
     },
     "execution_count": 97,
     "metadata": {},
     "output_type": "execute_result"
    }
   ],
   "source": [
    "regs"
   ]
  },
  {
   "cell_type": "code",
   "execution_count": 98,
   "id": "9475b9f9",
   "metadata": {},
   "outputs": [
    {
     "data": {
      "text/plain": [
       "['Hawa Mahal',\n",
       " 'Hawa Mahal Banquet',\n",
       " 'Hawa Mahal',\n",
       " 'Hawa Mahal Bazaar',\n",
       " 'Hawamahal TV Digital Media',\n",
       " 'Hawa Mahal Handicrafts',\n",
       " 'Hawa Mahal Electronics',\n",
       " 'Hawa Mahal Guest House',\n",
       " 'Hawamahal Indane',\n",
       " 'Hawamahal Jan Kalyan Vikas Samiti Kendra']"
      ]
     },
     "execution_count": 98,
     "metadata": {},
     "output_type": "execute_result"
    }
   ],
   "source": [
    "names"
   ]
  },
  {
   "cell_type": "code",
   "execution_count": 99,
   "id": "d6314197",
   "metadata": {},
   "outputs": [
    {
     "data": {
      "text/plain": [
       "[(26.923936,\n",
       "  75.826744,\n",
       "  'Hawa Mahal',\n",
       "  'Rājasthān',\n",
       "  'Hawa Mahal Road (Badi Choupad), Jaipur 302002, Rājasthān',\n",
       "  'Hawa Mahal Road'),\n",
       " (26.919549,\n",
       "  75.791469,\n",
       "  'Hawa Mahal Banquet',\n",
       "  'Rājasthān',\n",
       "  'Open Ball Room (Itc), Jaipur 302016, Rājasthān',\n",
       "  'Open Ball Room'),\n",
       " (26.911841,\n",
       "  75.787116,\n",
       "  'Hawa Mahal',\n",
       "  'Rājasthān',\n",
       "  'Ajmer Road (Civil Lines), Jaipur 302002, Rājasthān',\n",
       "  'Ajmer Road'),\n",
       " (26.927709,\n",
       "  75.828456,\n",
       "  'Hawa Mahal Bazaar',\n",
       "  'Rājasthān',\n",
       "  'Jaipur, Rājasthān',\n",
       "  None),\n",
       " (26.932109,\n",
       "  75.817383,\n",
       "  'Hawamahal TV Digital Media',\n",
       "  'Rajasthan',\n",
       "  '3502 Behind Nahargarh Thana, Nahargarh Road, Chandpole, Chandpole Bazar, Jaipur 302001, Rajasthan',\n",
       "  '3502 Behind Nahargarh Thana, Nahargarh Road, Chandpole, Chandpole Bazar'),\n",
       " (26.923711,\n",
       "  75.826733,\n",
       "  'Hawa Mahal Handicrafts',\n",
       "  'Rajasthan',\n",
       "  'Manak Chowk, Badi Chopad, Hawa Mahal Road, Badi Chaupar, Jaipur 302002, Rajasthan',\n",
       "  'Manak Chowk, Badi Chopad, Hawa Mahal Road, Badi Chaupar'),\n",
       " (26.943701,\n",
       "  75.799644,\n",
       "  'Hawa Mahal Electronics',\n",
       "  'Rajasthan',\n",
       "  '105 Opposite Pital Factory, Shastri, Jaipur 302016, Rajasthan',\n",
       "  '105 Opposite Pital Factory, Shastri'),\n",
       " (26.922277,\n",
       "  75.805448,\n",
       "  'Hawa Mahal Guest House',\n",
       "  'Rajasthan',\n",
       "  'Andilina House Road, Jaipur 302001, Rajasthan',\n",
       "  'Andilina House Road'),\n",
       " (26.924322,\n",
       "  75.81235,\n",
       "  'Hawamahal Indane',\n",
       "  'Rajasthan',\n",
       "  'P/9, Trivedi Tower, Unariyon Ka Rasta, Jaipur 302001, Rajasthan',\n",
       "  'P/9, Trivedi Tower, Unariyon Ka Rasta'),\n",
       " (26.938021,\n",
       "  75.827801,\n",
       "  'Hawamahal Jan Kalyan Vikas Samiti Kendra',\n",
       "  'Rajasthan',\n",
       "  'Jadoun Bhawan, 64, Bramhpuri Road, Jaipur 302002, Rajasthan',\n",
       "  'Jadoun Bhawan, 64, Bramhpuri Road')]"
      ]
     },
     "execution_count": 99,
     "metadata": {},
     "output_type": "execute_result"
    }
   ],
   "source": [
    "list(zip(lats, logs, names, regs, for_add, adds))"
   ]
  },
  {
   "cell_type": "code",
   "execution_count": 102,
   "id": "7d5ad60c",
   "metadata": {},
   "outputs": [],
   "source": [
    "import pandas as pd"
   ]
  },
  {
   "cell_type": "code",
   "execution_count": 103,
   "id": "2755559d",
   "metadata": {},
   "outputs": [],
   "source": [
    "df = pd.DataFrame({\n",
    "    \"Latitude\": lats, \n",
    "    \"Longitude\": logs, \n",
    "    \"Region\": regs, \n",
    "    \"Address\": adds, \n",
    "    \"Formatted_Address\": for_add,\n",
    "    \"Names\": names\n",
    "})"
   ]
  },
  {
   "cell_type": "code",
   "execution_count": 105,
   "id": "a6e9a0a4",
   "metadata": {},
   "outputs": [
    {
     "data": {
      "text/plain": [
       "<Axes: >"
      ]
     },
     "execution_count": 105,
     "metadata": {},
     "output_type": "execute_result"
    },
    {
     "data": {
      "image/png": "[encoded data removed]",
      "text/plain": [
       "<Figure size 640x480 with 1 Axes>"
      ]
     },
     "metadata": {},
     "output_type": "display_data"
    }
   ],
   "source": [
    "df['Latitude'].plot()"
   ]
  },
  {
   "cell_type": "code",
   "execution_count": 112,
   "id": "79c6a60c",
   "metadata": {},
   "outputs": [],
   "source": [
    "def search_place(place):\n",
    "    try:\n",
    "    #         lats = []\n",
    "    #         logs = []\n",
    "    #         adds = []\n",
    "    #         regs = []\n",
    "    #         for_add = []\n",
    "    #         names = []\n",
    "        for temp in data['results']:\n",
    "            lat = temp['geocodes']['main']['latitude']\n",
    "            log = temp['geocodes']['main']['longitude']\n",
    "            add = temp['location'].get('address')\n",
    "            reg = temp['location'].get('region')\n",
    "            formatted = temp['location'].get('formatted_address')\n",
    "            name = temp['name']\n",
    "            lats.append(lat)\n",
    "            logs.append(log)\n",
    "            adds.append(add)\n",
    "            regs.append(reg)\n",
    "            for_add.append(formatted)\n",
    "            names.append(name)\n",
    "    except Exception as err:\n",
    "        print(\"\\n ERROR --> \", err)\n",
    "        print(temp)"
   ]
  },
  {
   "cell_type": "code",
   "execution_count": 113,
   "id": "7eecac06",
   "metadata": {},
   "outputs": [],
   "source": [
    "search_place(\"city palace\")"
   ]
  },
  {
   "cell_type": "code",
   "execution_count": 114,
   "id": "fa489654",
   "metadata": {},
   "outputs": [
    {
     "data": {
      "text/plain": [
       "30"
      ]
     },
     "execution_count": 114,
     "metadata": {},
     "output_type": "execute_result"
    }
   ],
   "source": [
    "lats.__len__()"
   ]
  },
  {
   "cell_type": "code",
   "execution_count": 115,
   "id": "32f61d3e",
   "metadata": {},
   "outputs": [],
   "source": [
    "df = pd.DataFrame({\n",
    "    \"Latitude\": lats, \n",
    "    \"Longitude\": logs, \n",
    "    \"Region\": regs, \n",
    "    \"Address\": adds, \n",
    "    \"Formatted_Address\": for_add,\n",
    "    \"Names\": names\n",
    "})"
   ]
  },
  {
   "cell_type": "code",
   "execution_count": 116,
   "id": "8f6d5ea7",
   "metadata": {},
   "outputs": [
    {
     "data": {
      "text/html": [
       "<div>\n",
       "<style scoped>\n",
       "    .dataframe tbody tr th:only-of-type {\n",
       "        vertical-align: middle;\n",
       "    }\n",
       "\n",
       "    .dataframe tbody tr th {\n",
       "        vertical-align: top;\n",
       "    }\n",
       "\n",
       "    .dataframe thead th {\n",
       "        text-align: right;\n",
       "    }\n",
       "</style>\n",
       "<table border=\"1\" class=\"dataframe\">\n",
       "  <thead>\n",
       "    <tr style=\"text-align: right;\">\n",
       "      <th></th>\n",
       "      <th>Latitude</th>\n",
       "      <th>Longitude</th>\n",
       "      <th>Region</th>\n",
       "      <th>Address</th>\n",
       "      <th>Formatted_Address</th>\n",
       "      <th>Names</th>\n",
       "    </tr>\n",
       "  </thead>\n",
       "  <tbody>\n",
       "    <tr>\n",
       "      <th>0</th>\n",
       "      <td>26.923936</td>\n",
       "      <td>75.826744</td>\n",
       "      <td>Rājasthān</td>\n",
       "      <td>Hawa Mahal Road</td>\n",
       "      <td>Hawa Mahal Road (Badi Choupad), Jaipur 302002,...</td>\n",
       "      <td>Hawa Mahal</td>\n",
       "    </tr>\n",
       "    <tr>\n",
       "      <th>1</th>\n",
       "      <td>26.919549</td>\n",
       "      <td>75.791469</td>\n",
       "      <td>Rājasthān</td>\n",
       "      <td>Open Ball Room</td>\n",
       "      <td>Open Ball Room (Itc), Jaipur 302016, Rājasthān</td>\n",
       "      <td>Hawa Mahal Banquet</td>\n",
       "    </tr>\n",
       "    <tr>\n",
       "      <th>2</th>\n",
       "      <td>26.911841</td>\n",
       "      <td>75.787116</td>\n",
       "      <td>Rājasthān</td>\n",
       "      <td>Ajmer Road</td>\n",
       "      <td>Ajmer Road (Civil Lines), Jaipur 302002, Rājas...</td>\n",
       "      <td>Hawa Mahal</td>\n",
       "    </tr>\n",
       "    <tr>\n",
       "      <th>3</th>\n",
       "      <td>26.927709</td>\n",
       "      <td>75.828456</td>\n",
       "      <td>Rājasthān</td>\n",
       "      <td>None</td>\n",
       "      <td>Jaipur, Rājasthān</td>\n",
       "      <td>Hawa Mahal Bazaar</td>\n",
       "    </tr>\n",
       "    <tr>\n",
       "      <th>4</th>\n",
       "      <td>26.932109</td>\n",
       "      <td>75.817383</td>\n",
       "      <td>Rajasthan</td>\n",
       "      <td>3502 Behind Nahargarh Thana, Nahargarh Road, C...</td>\n",
       "      <td>3502 Behind Nahargarh Thana, Nahargarh Road, C...</td>\n",
       "      <td>Hawamahal TV Digital Media</td>\n",
       "    </tr>\n",
       "    <tr>\n",
       "      <th>5</th>\n",
       "      <td>26.923711</td>\n",
       "      <td>75.826733</td>\n",
       "      <td>Rajasthan</td>\n",
       "      <td>Manak Chowk, Badi Chopad, Hawa Mahal Road, Bad...</td>\n",
       "      <td>Manak Chowk, Badi Chopad, Hawa Mahal Road, Bad...</td>\n",
       "      <td>Hawa Mahal Handicrafts</td>\n",
       "    </tr>\n",
       "    <tr>\n",
       "      <th>6</th>\n",
       "      <td>26.943701</td>\n",
       "      <td>75.799644</td>\n",
       "      <td>Rajasthan</td>\n",
       "      <td>105 Opposite Pital Factory, Shastri</td>\n",
       "      <td>105 Opposite Pital Factory, Shastri, Jaipur 30...</td>\n",
       "      <td>Hawa Mahal Electronics</td>\n",
       "    </tr>\n",
       "    <tr>\n",
       "      <th>7</th>\n",
       "      <td>26.922277</td>\n",
       "      <td>75.805448</td>\n",
       "      <td>Rajasthan</td>\n",
       "      <td>Andilina House Road</td>\n",
       "      <td>Andilina House Road, Jaipur 302001, Rajasthan</td>\n",
       "      <td>Hawa Mahal Guest House</td>\n",
       "    </tr>\n",
       "    <tr>\n",
       "      <th>8</th>\n",
       "      <td>26.924322</td>\n",
       "      <td>75.812350</td>\n",
       "      <td>Rajasthan</td>\n",
       "      <td>P/9, Trivedi Tower, Unariyon Ka Rasta</td>\n",
       "      <td>P/9, Trivedi Tower, Unariyon Ka Rasta, Jaipur ...</td>\n",
       "      <td>Hawamahal Indane</td>\n",
       "    </tr>\n",
       "    <tr>\n",
       "      <th>9</th>\n",
       "      <td>26.938021</td>\n",
       "      <td>75.827801</td>\n",
       "      <td>Rajasthan</td>\n",
       "      <td>Jadoun Bhawan, 64, Bramhpuri Road</td>\n",
       "      <td>Jadoun Bhawan, 64, Bramhpuri Road, Jaipur 3020...</td>\n",
       "      <td>Hawamahal Jan Kalyan Vikas Samiti Kendra</td>\n",
       "    </tr>\n",
       "    <tr>\n",
       "      <th>10</th>\n",
       "      <td>26.923936</td>\n",
       "      <td>75.826744</td>\n",
       "      <td>Rājasthān</td>\n",
       "      <td>Hawa Mahal Road</td>\n",
       "      <td>Hawa Mahal Road (Badi Choupad), Jaipur 302002,...</td>\n",
       "      <td>Hawa Mahal</td>\n",
       "    </tr>\n",
       "    <tr>\n",
       "      <th>11</th>\n",
       "      <td>26.919549</td>\n",
       "      <td>75.791469</td>\n",
       "      <td>Rājasthān</td>\n",
       "      <td>Open Ball Room</td>\n",
       "      <td>Open Ball Room (Itc), Jaipur 302016, Rājasthān</td>\n",
       "      <td>Hawa Mahal Banquet</td>\n",
       "    </tr>\n",
       "    <tr>\n",
       "      <th>12</th>\n",
       "      <td>26.911841</td>\n",
       "      <td>75.787116</td>\n",
       "      <td>Rājasthān</td>\n",
       "      <td>Ajmer Road</td>\n",
       "      <td>Ajmer Road (Civil Lines), Jaipur 302002, Rājas...</td>\n",
       "      <td>Hawa Mahal</td>\n",
       "    </tr>\n",
       "    <tr>\n",
       "      <th>13</th>\n",
       "      <td>26.927709</td>\n",
       "      <td>75.828456</td>\n",
       "      <td>Rājasthān</td>\n",
       "      <td>None</td>\n",
       "      <td>Jaipur, Rājasthān</td>\n",
       "      <td>Hawa Mahal Bazaar</td>\n",
       "    </tr>\n",
       "    <tr>\n",
       "      <th>14</th>\n",
       "      <td>26.932109</td>\n",
       "      <td>75.817383</td>\n",
       "      <td>Rajasthan</td>\n",
       "      <td>3502 Behind Nahargarh Thana, Nahargarh Road, C...</td>\n",
       "      <td>3502 Behind Nahargarh Thana, Nahargarh Road, C...</td>\n",
       "      <td>Hawamahal TV Digital Media</td>\n",
       "    </tr>\n",
       "    <tr>\n",
       "      <th>15</th>\n",
       "      <td>26.923711</td>\n",
       "      <td>75.826733</td>\n",
       "      <td>Rajasthan</td>\n",
       "      <td>Manak Chowk, Badi Chopad, Hawa Mahal Road, Bad...</td>\n",
       "      <td>Manak Chowk, Badi Chopad, Hawa Mahal Road, Bad...</td>\n",
       "      <td>Hawa Mahal Handicrafts</td>\n",
       "    </tr>\n",
       "    <tr>\n",
       "      <th>16</th>\n",
       "      <td>26.943701</td>\n",
       "      <td>75.799644</td>\n",
       "      <td>Rajasthan</td>\n",
       "      <td>105 Opposite Pital Factory, Shastri</td>\n",
       "      <td>105 Opposite Pital Factory, Shastri, Jaipur 30...</td>\n",
       "      <td>Hawa Mahal Electronics</td>\n",
       "    </tr>\n",
       "    <tr>\n",
       "      <th>17</th>\n",
       "      <td>26.922277</td>\n",
       "      <td>75.805448</td>\n",
       "      <td>Rajasthan</td>\n",
       "      <td>Andilina House Road</td>\n",
       "      <td>Andilina House Road, Jaipur 302001, Rajasthan</td>\n",
       "      <td>Hawa Mahal Guest House</td>\n",
       "    </tr>\n",
       "    <tr>\n",
       "      <th>18</th>\n",
       "      <td>26.924322</td>\n",
       "      <td>75.812350</td>\n",
       "      <td>Rajasthan</td>\n",
       "      <td>P/9, Trivedi Tower, Unariyon Ka Rasta</td>\n",
       "      <td>P/9, Trivedi Tower, Unariyon Ka Rasta, Jaipur ...</td>\n",
       "      <td>Hawamahal Indane</td>\n",
       "    </tr>\n",
       "    <tr>\n",
       "      <th>19</th>\n",
       "      <td>26.938021</td>\n",
       "      <td>75.827801</td>\n",
       "      <td>Rajasthan</td>\n",
       "      <td>Jadoun Bhawan, 64, Bramhpuri Road</td>\n",
       "      <td>Jadoun Bhawan, 64, Bramhpuri Road, Jaipur 3020...</td>\n",
       "      <td>Hawamahal Jan Kalyan Vikas Samiti Kendra</td>\n",
       "    </tr>\n",
       "    <tr>\n",
       "      <th>20</th>\n",
       "      <td>26.923936</td>\n",
       "      <td>75.826744</td>\n",
       "      <td>Rājasthān</td>\n",
       "      <td>Hawa Mahal Road</td>\n",
       "      <td>Hawa Mahal Road (Badi Choupad), Jaipur 302002,...</td>\n",
       "      <td>Hawa Mahal</td>\n",
       "    </tr>\n",
       "    <tr>\n",
       "      <th>21</th>\n",
       "      <td>26.919549</td>\n",
       "      <td>75.791469</td>\n",
       "      <td>Rājasthān</td>\n",
       "      <td>Open Ball Room</td>\n",
       "      <td>Open Ball Room (Itc), Jaipur 302016, Rājasthān</td>\n",
       "      <td>Hawa Mahal Banquet</td>\n",
       "    </tr>\n",
       "    <tr>\n",
       "      <th>22</th>\n",
       "      <td>26.911841</td>\n",
       "      <td>75.787116</td>\n",
       "      <td>Rājasthān</td>\n",
       "      <td>Ajmer Road</td>\n",
       "      <td>Ajmer Road (Civil Lines), Jaipur 302002, Rājas...</td>\n",
       "      <td>Hawa Mahal</td>\n",
       "    </tr>\n",
       "    <tr>\n",
       "      <th>23</th>\n",
       "      <td>26.927709</td>\n",
       "      <td>75.828456</td>\n",
       "      <td>Rājasthān</td>\n",
       "      <td>None</td>\n",
       "      <td>Jaipur, Rājasthān</td>\n",
       "      <td>Hawa Mahal Bazaar</td>\n",
       "    </tr>\n",
       "    <tr>\n",
       "      <th>24</th>\n",
       "      <td>26.932109</td>\n",
       "      <td>75.817383</td>\n",
       "      <td>Rajasthan</td>\n",
       "      <td>3502 Behind Nahargarh Thana, Nahargarh Road, C...</td>\n",
       "      <td>3502 Behind Nahargarh Thana, Nahargarh Road, C...</td>\n",
       "      <td>Hawamahal TV Digital Media</td>\n",
       "    </tr>\n",
       "    <tr>\n",
       "      <th>25</th>\n",
       "      <td>26.923711</td>\n",
       "      <td>75.826733</td>\n",
       "      <td>Rajasthan</td>\n",
       "      <td>Manak Chowk, Badi Chopad, Hawa Mahal Road, Bad...</td>\n",
       "      <td>Manak Chowk, Badi Chopad, Hawa Mahal Road, Bad...</td>\n",
       "      <td>Hawa Mahal Handicrafts</td>\n",
       "    </tr>\n",
       "    <tr>\n",
       "      <th>26</th>\n",
       "      <td>26.943701</td>\n",
       "      <td>75.799644</td>\n",
       "      <td>Rajasthan</td>\n",
       "      <td>105 Opposite Pital Factory, Shastri</td>\n",
       "      <td>105 Opposite Pital Factory, Shastri, Jaipur 30...</td>\n",
       "      <td>Hawa Mahal Electronics</td>\n",
       "    </tr>\n",
       "    <tr>\n",
       "      <th>27</th>\n",
       "      <td>26.922277</td>\n",
       "      <td>75.805448</td>\n",
       "      <td>Rajasthan</td>\n",
       "      <td>Andilina House Road</td>\n",
       "      <td>Andilina House Road, Jaipur 302001, Rajasthan</td>\n",
       "      <td>Hawa Mahal Guest House</td>\n",
       "    </tr>\n",
       "    <tr>\n",
       "      <th>28</th>\n",
       "      <td>26.924322</td>\n",
       "      <td>75.812350</td>\n",
       "      <td>Rajasthan</td>\n",
       "      <td>P/9, Trivedi Tower, Unariyon Ka Rasta</td>\n",
       "      <td>P/9, Trivedi Tower, Unariyon Ka Rasta, Jaipur ...</td>\n",
       "      <td>Hawamahal Indane</td>\n",
       "    </tr>\n",
       "    <tr>\n",
       "      <th>29</th>\n",
       "      <td>26.938021</td>\n",
       "      <td>75.827801</td>\n",
       "      <td>Rajasthan</td>\n",
       "      <td>Jadoun Bhawan, 64, Bramhpuri Road</td>\n",
       "      <td>Jadoun Bhawan, 64, Bramhpuri Road, Jaipur 3020...</td>\n",
       "      <td>Hawamahal Jan Kalyan Vikas Samiti Kendra</td>\n",
       "    </tr>\n",
       "  </tbody>\n",
       "</table>\n",
       "</div>"
      ],
      "text/plain": [
       "     Latitude  Longitude     Region  \\\n",
       "0   26.923936  75.826744  Rājasthān   \n",
       "1   26.919549  75.791469  Rājasthān   \n",
       "2   26.911841  75.787116  Rājasthān   \n",
       "3   26.927709  75.828456  Rājasthān   \n",
       "4   26.932109  75.817383  Rajasthan   \n",
       "5   26.923711  75.826733  Rajasthan   \n",
       "6   26.943701  75.799644  Rajasthan   \n",
       "7   26.922277  75.805448  Rajasthan   \n",
       "8   26.924322  75.812350  Rajasthan   \n",
       "9   26.938021  75.827801  Rajasthan   \n",
       "10  26.923936  75.826744  Rājasthān   \n",
       "11  26.919549  75.791469  Rājasthān   \n",
       "12  26.911841  75.787116  Rājasthān   \n",
       "13  26.927709  75.828456  Rājasthān   \n",
       "14  26.932109  75.817383  Rajasthan   \n",
       "15  26.923711  75.826733  Rajasthan   \n",
       "16  26.943701  75.799644  Rajasthan   \n",
       "17  26.922277  75.805448  Rajasthan   \n",
       "18  26.924322  75.812350  Rajasthan   \n",
       "19  26.938021  75.827801  Rajasthan   \n",
       "20  26.923936  75.826744  Rājasthān   \n",
       "21  26.919549  75.791469  Rājasthān   \n",
       "22  26.911841  75.787116  Rājasthān   \n",
       "23  26.927709  75.828456  Rājasthān   \n",
       "24  26.932109  75.817383  Rajasthan   \n",
       "25  26.923711  75.826733  Rajasthan   \n",
       "26  26.943701  75.799644  Rajasthan   \n",
       "27  26.922277  75.805448  Rajasthan   \n",
       "28  26.924322  75.812350  Rajasthan   \n",
       "29  26.938021  75.827801  Rajasthan   \n",
       "\n",
       "                                              Address  \\\n",
       "0                                     Hawa Mahal Road   \n",
       "1                                      Open Ball Room   \n",
       "2                                          Ajmer Road   \n",
       "3                                                None   \n",
       "4   3502 Behind Nahargarh Thana, Nahargarh Road, C...   \n",
       "5   Manak Chowk, Badi Chopad, Hawa Mahal Road, Bad...   \n",
       "6                 105 Opposite Pital Factory, Shastri   \n",
       "7                                 Andilina House Road   \n",
       "8               P/9, Trivedi Tower, Unariyon Ka Rasta   \n",
       "9                   Jadoun Bhawan, 64, Bramhpuri Road   \n",
       "10                                    Hawa Mahal Road   \n",
       "11                                     Open Ball Room   \n",
       "12                                         Ajmer Road   \n",
       "13                                               None   \n",
       "14  3502 Behind Nahargarh Thana, Nahargarh Road, C...   \n",
       "15  Manak Chowk, Badi Chopad, Hawa Mahal Road, Bad...   \n",
       "16                105 Opposite Pital Factory, Shastri   \n",
       "17                                Andilina House Road   \n",
       "18              P/9, Trivedi Tower, Unariyon Ka Rasta   \n",
       "19                  Jadoun Bhawan, 64, Bramhpuri Road   \n",
       "20                                    Hawa Mahal Road   \n",
       "21                                     Open Ball Room   \n",
       "22                                         Ajmer Road   \n",
       "23                                               None   \n",
       "24  3502 Behind Nahargarh Thana, Nahargarh Road, C...   \n",
       "25  Manak Chowk, Badi Chopad, Hawa Mahal Road, Bad...   \n",
       "26                105 Opposite Pital Factory, Shastri   \n",
       "27                                Andilina House Road   \n",
       "28              P/9, Trivedi Tower, Unariyon Ka Rasta   \n",
       "29                  Jadoun Bhawan, 64, Bramhpuri Road   \n",
       "\n",
       "                                    Formatted_Address  \\\n",
       "0   Hawa Mahal Road (Badi Choupad), Jaipur 302002,...   \n",
       "1      Open Ball Room (Itc), Jaipur 302016, Rājasthān   \n",
       "2   Ajmer Road (Civil Lines), Jaipur 302002, Rājas...   \n",
       "3                                   Jaipur, Rājasthān   \n",
       "4   3502 Behind Nahargarh Thana, Nahargarh Road, C...   \n",
       "5   Manak Chowk, Badi Chopad, Hawa Mahal Road, Bad...   \n",
       "6   105 Opposite Pital Factory, Shastri, Jaipur 30...   \n",
       "7       Andilina House Road, Jaipur 302001, Rajasthan   \n",
       "8   P/9, Trivedi Tower, Unariyon Ka Rasta, Jaipur ...   \n",
       "9   Jadoun Bhawan, 64, Bramhpuri Road, Jaipur 3020...   \n",
       "10  Hawa Mahal Road (Badi Choupad), Jaipur 302002,...   \n",
       "11     Open Ball Room (Itc), Jaipur 302016, Rājasthān   \n",
       "12  Ajmer Road (Civil Lines), Jaipur 302002, Rājas...   \n",
       "13                                  Jaipur, Rājasthān   \n",
       "14  3502 Behind Nahargarh Thana, Nahargarh Road, C...   \n",
       "15  Manak Chowk, Badi Chopad, Hawa Mahal Road, Bad...   \n",
       "16  105 Opposite Pital Factory, Shastri, Jaipur 30...   \n",
       "17      Andilina House Road, Jaipur 302001, Rajasthan   \n",
       "18  P/9, Trivedi Tower, Unariyon Ka Rasta, Jaipur ...   \n",
       "19  Jadoun Bhawan, 64, Bramhpuri Road, Jaipur 3020...   \n",
       "20  Hawa Mahal Road (Badi Choupad), Jaipur 302002,...   \n",
       "21     Open Ball Room (Itc), Jaipur 302016, Rājasthān   \n",
       "22  Ajmer Road (Civil Lines), Jaipur 302002, Rājas...   \n",
       "23                                  Jaipur, Rājasthān   \n",
       "24  3502 Behind Nahargarh Thana, Nahargarh Road, C...   \n",
       "25  Manak Chowk, Badi Chopad, Hawa Mahal Road, Bad...   \n",
       "26  105 Opposite Pital Factory, Shastri, Jaipur 30...   \n",
       "27      Andilina House Road, Jaipur 302001, Rajasthan   \n",
       "28  P/9, Trivedi Tower, Unariyon Ka Rasta, Jaipur ...   \n",
       "29  Jadoun Bhawan, 64, Bramhpuri Road, Jaipur 3020...   \n",
       "\n",
       "                                       Names  \n",
       "0                                 Hawa Mahal  \n",
       "1                         Hawa Mahal Banquet  \n",
       "2                                 Hawa Mahal  \n",
       "3                          Hawa Mahal Bazaar  \n",
       "4                 Hawamahal TV Digital Media  \n",
       "5                     Hawa Mahal Handicrafts  \n",
       "6                     Hawa Mahal Electronics  \n",
       "7                     Hawa Mahal Guest House  \n",
       "8                           Hawamahal Indane  \n",
       "9   Hawamahal Jan Kalyan Vikas Samiti Kendra  \n",
       "10                                Hawa Mahal  \n",
       "11                        Hawa Mahal Banquet  \n",
       "12                                Hawa Mahal  \n",
       "13                         Hawa Mahal Bazaar  \n",
       "14                Hawamahal TV Digital Media  \n",
       "15                    Hawa Mahal Handicrafts  \n",
       "16                    Hawa Mahal Electronics  \n",
       "17                    Hawa Mahal Guest House  \n",
       "18                          Hawamahal Indane  \n",
       "19  Hawamahal Jan Kalyan Vikas Samiti Kendra  \n",
       "20                                Hawa Mahal  \n",
       "21                        Hawa Mahal Banquet  \n",
       "22                                Hawa Mahal  \n",
       "23                         Hawa Mahal Bazaar  \n",
       "24                Hawamahal TV Digital Media  \n",
       "25                    Hawa Mahal Handicrafts  \n",
       "26                    Hawa Mahal Electronics  \n",
       "27                    Hawa Mahal Guest House  \n",
       "28                          Hawamahal Indane  \n",
       "29  Hawamahal Jan Kalyan Vikas Samiti Kendra  "
      ]
     },
     "execution_count": 116,
     "metadata": {},
     "output_type": "execute_result"
    }
   ],
   "source": [
    "df"
   ]
  },
  {
   "cell_type": "code",
   "execution_count": null,
   "id": "2b8b3e05",
   "metadata": {},
   "outputs": [],
   "source": []
  }
 ],
 "metadata": {
  "kernelspec": {
   "display_name": "Python 3 (ipykernel)",
   "language": "python",
   "name": "python3"
  },
  "language_info": {
   "codemirror_mode": {
    "name": "ipython",
    "version": 3
   },
   "file_extension": ".py",
   "mimetype": "text/x-python",
   "name": "python",
   "nbconvert_exporter": "python",
   "pygments_lexer": "ipython3",
   "version": "3.11.4"
  }
 },
 "nbformat": 4,
 "nbformat_minor": 5
}
